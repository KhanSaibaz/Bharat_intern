{
 "cells": [
  {
   "cell_type": "code",
   "execution_count": 1,
   "id": "a94beaa5",
   "metadata": {},
   "outputs": [],
   "source": [
    "import pandas as pd\n",
    "import numpy as np\n",
    "import seaborn as sns\n",
    "import matplotlib.pyplot as plt\n",
    "from sklearn.preprocessing import StandardScaler"
   ]
  },
  {
   "cell_type": "code",
   "execution_count": 3,
   "id": "db1b37ee",
   "metadata": {},
   "outputs": [
    {
     "name": "stdout",
     "output_type": "stream",
     "text": [
      "Requirement already satisfied: tensorflow in c:\\users\\admin\\anaconda3\\lib\\site-packages (2.13.0)\n",
      "Requirement already satisfied: tensorflow-intel==2.13.0 in c:\\users\\admin\\anaconda3\\lib\\site-packages (from tensorflow) (2.13.0)\n",
      "Requirement already satisfied: absl-py>=1.0.0 in c:\\users\\admin\\anaconda3\\lib\\site-packages (from tensorflow-intel==2.13.0->tensorflow) (1.4.0)\n",
      "Requirement already satisfied: astunparse>=1.6.0 in c:\\users\\admin\\anaconda3\\lib\\site-packages (from tensorflow-intel==2.13.0->tensorflow) (1.6.3)\n",
      "Requirement already satisfied: flatbuffers>=23.1.21 in c:\\users\\admin\\anaconda3\\lib\\site-packages (from tensorflow-intel==2.13.0->tensorflow) (23.5.26)\n",
      "Requirement already satisfied: gast<=0.4.0,>=0.2.1 in c:\\users\\admin\\anaconda3\\lib\\site-packages (from tensorflow-intel==2.13.0->tensorflow) (0.4.0)\n",
      "Requirement already satisfied: google-pasta>=0.1.1 in c:\\users\\admin\\anaconda3\\lib\\site-packages (from tensorflow-intel==2.13.0->tensorflow) (0.2.0)\n",
      "Requirement already satisfied: h5py>=2.9.0 in c:\\users\\admin\\anaconda3\\lib\\site-packages (from tensorflow-intel==2.13.0->tensorflow) (3.7.0)\n",
      "Requirement already satisfied: libclang>=13.0.0 in c:\\users\\admin\\anaconda3\\lib\\site-packages (from tensorflow-intel==2.13.0->tensorflow) (16.0.6)\n",
      "Requirement already satisfied: numpy<=1.24.3,>=1.22 in c:\\users\\admin\\anaconda3\\lib\\site-packages (from tensorflow-intel==2.13.0->tensorflow) (1.24.3)\n",
      "Requirement already satisfied: opt-einsum>=2.3.2 in c:\\users\\admin\\anaconda3\\lib\\site-packages (from tensorflow-intel==2.13.0->tensorflow) (3.3.0)\n",
      "Requirement already satisfied: packaging in c:\\users\\admin\\anaconda3\\lib\\site-packages (from tensorflow-intel==2.13.0->tensorflow) (23.0)\n",
      "Requirement already satisfied: protobuf!=4.21.0,!=4.21.1,!=4.21.2,!=4.21.3,!=4.21.4,!=4.21.5,<5.0.0dev,>=3.20.3 in c:\\users\\admin\\anaconda3\\lib\\site-packages (from tensorflow-intel==2.13.0->tensorflow) (4.23.4)\n",
      "Requirement already satisfied: setuptools in c:\\users\\admin\\anaconda3\\lib\\site-packages (from tensorflow-intel==2.13.0->tensorflow) (67.8.0)\n",
      "Requirement already satisfied: six>=1.12.0 in c:\\users\\admin\\anaconda3\\lib\\site-packages (from tensorflow-intel==2.13.0->tensorflow) (1.16.0)\n",
      "Requirement already satisfied: termcolor>=1.1.0 in c:\\users\\admin\\anaconda3\\lib\\site-packages (from tensorflow-intel==2.13.0->tensorflow) (2.3.0)\n",
      "Requirement already satisfied: typing-extensions<4.6.0,>=3.6.6 in c:\\users\\admin\\anaconda3\\lib\\site-packages (from tensorflow-intel==2.13.0->tensorflow) (4.5.0)\n",
      "Requirement already satisfied: wrapt>=1.11.0 in c:\\users\\admin\\anaconda3\\lib\\site-packages (from tensorflow-intel==2.13.0->tensorflow) (1.14.1)\n",
      "Requirement already satisfied: grpcio<2.0,>=1.24.3 in c:\\users\\admin\\anaconda3\\lib\\site-packages (from tensorflow-intel==2.13.0->tensorflow) (1.56.2)\n",
      "Requirement already satisfied: tensorboard<2.14,>=2.13 in c:\\users\\admin\\anaconda3\\lib\\site-packages (from tensorflow-intel==2.13.0->tensorflow) (2.13.0)\n",
      "Requirement already satisfied: tensorflow-estimator<2.14,>=2.13.0 in c:\\users\\admin\\anaconda3\\lib\\site-packages (from tensorflow-intel==2.13.0->tensorflow) (2.13.0)\n",
      "Requirement already satisfied: keras<2.14,>=2.13.1 in c:\\users\\admin\\anaconda3\\lib\\site-packages (from tensorflow-intel==2.13.0->tensorflow) (2.13.1)\n",
      "Requirement already satisfied: tensorflow-io-gcs-filesystem>=0.23.1 in c:\\users\\admin\\anaconda3\\lib\\site-packages (from tensorflow-intel==2.13.0->tensorflow) (0.31.0)\n",
      "Requirement already satisfied: wheel<1.0,>=0.23.0 in c:\\users\\admin\\anaconda3\\lib\\site-packages (from astunparse>=1.6.0->tensorflow-intel==2.13.0->tensorflow) (0.38.4)\n",
      "Requirement already satisfied: google-auth<3,>=1.6.3 in c:\\users\\admin\\anaconda3\\lib\\site-packages (from tensorboard<2.14,>=2.13->tensorflow-intel==2.13.0->tensorflow) (2.22.0)\n",
      "Requirement already satisfied: google-auth-oauthlib<1.1,>=0.5 in c:\\users\\admin\\anaconda3\\lib\\site-packages (from tensorboard<2.14,>=2.13->tensorflow-intel==2.13.0->tensorflow) (1.0.0)\n",
      "Requirement already satisfied: markdown>=2.6.8 in c:\\users\\admin\\anaconda3\\lib\\site-packages (from tensorboard<2.14,>=2.13->tensorflow-intel==2.13.0->tensorflow) (3.4.1)\n",
      "Requirement already satisfied: requests<3,>=2.21.0 in c:\\users\\admin\\anaconda3\\lib\\site-packages (from tensorboard<2.14,>=2.13->tensorflow-intel==2.13.0->tensorflow) (2.29.0)\n",
      "Requirement already satisfied: tensorboard-data-server<0.8.0,>=0.7.0 in c:\\users\\admin\\anaconda3\\lib\\site-packages (from tensorboard<2.14,>=2.13->tensorflow-intel==2.13.0->tensorflow) (0.7.1)\n",
      "Requirement already satisfied: werkzeug>=1.0.1 in c:\\users\\admin\\anaconda3\\lib\\site-packages (from tensorboard<2.14,>=2.13->tensorflow-intel==2.13.0->tensorflow) (2.2.3)\n",
      "Requirement already satisfied: cachetools<6.0,>=2.0.0 in c:\\users\\admin\\anaconda3\\lib\\site-packages (from google-auth<3,>=1.6.3->tensorboard<2.14,>=2.13->tensorflow-intel==2.13.0->tensorflow) (5.3.1)\n",
      "Requirement already satisfied: pyasn1-modules>=0.2.1 in c:\\users\\admin\\anaconda3\\lib\\site-packages (from google-auth<3,>=1.6.3->tensorboard<2.14,>=2.13->tensorflow-intel==2.13.0->tensorflow) (0.2.8)\n",
      "Requirement already satisfied: rsa<5,>=3.1.4 in c:\\users\\admin\\anaconda3\\lib\\site-packages (from google-auth<3,>=1.6.3->tensorboard<2.14,>=2.13->tensorflow-intel==2.13.0->tensorflow) (4.9)\n",
      "Requirement already satisfied: urllib3<2.0 in c:\\users\\admin\\anaconda3\\lib\\site-packages (from google-auth<3,>=1.6.3->tensorboard<2.14,>=2.13->tensorflow-intel==2.13.0->tensorflow) (1.26.16)\n",
      "Requirement already satisfied: requests-oauthlib>=0.7.0 in c:\\users\\admin\\anaconda3\\lib\\site-packages (from google-auth-oauthlib<1.1,>=0.5->tensorboard<2.14,>=2.13->tensorflow-intel==2.13.0->tensorflow) (1.3.1)\n",
      "Requirement already satisfied: charset-normalizer<4,>=2 in c:\\users\\admin\\anaconda3\\lib\\site-packages (from requests<3,>=2.21.0->tensorboard<2.14,>=2.13->tensorflow-intel==2.13.0->tensorflow) (2.0.4)\n",
      "Requirement already satisfied: idna<4,>=2.5 in c:\\users\\admin\\anaconda3\\lib\\site-packages (from requests<3,>=2.21.0->tensorboard<2.14,>=2.13->tensorflow-intel==2.13.0->tensorflow) (3.4)\n",
      "Requirement already satisfied: certifi>=2017.4.17 in c:\\users\\admin\\anaconda3\\lib\\site-packages (from requests<3,>=2.21.0->tensorboard<2.14,>=2.13->tensorflow-intel==2.13.0->tensorflow) (2023.5.7)\n",
      "Requirement already satisfied: MarkupSafe>=2.1.1 in c:\\users\\admin\\anaconda3\\lib\\site-packages (from werkzeug>=1.0.1->tensorboard<2.14,>=2.13->tensorflow-intel==2.13.0->tensorflow) (2.1.1)\n",
      "Requirement already satisfied: pyasn1<0.5.0,>=0.4.6 in c:\\users\\admin\\anaconda3\\lib\\site-packages (from pyasn1-modules>=0.2.1->google-auth<3,>=1.6.3->tensorboard<2.14,>=2.13->tensorflow-intel==2.13.0->tensorflow) (0.4.8)\n",
      "Requirement already satisfied: oauthlib>=3.0.0 in c:\\users\\admin\\anaconda3\\lib\\site-packages (from requests-oauthlib>=0.7.0->google-auth-oauthlib<1.1,>=0.5->tensorboard<2.14,>=2.13->tensorflow-intel==2.13.0->tensorflow) (3.2.2)\n",
      "Note: you may need to restart the kernel to use updated packages.\n"
     ]
    }
   ],
   "source": [
    "pip install tensorflow"
   ]
  },
  {
   "cell_type": "code",
   "execution_count": 4,
   "id": "89ac74f9",
   "metadata": {},
   "outputs": [
    {
     "name": "stdout",
     "output_type": "stream",
     "text": [
      "2.13.0\n"
     ]
    }
   ],
   "source": [
    "import tensorflow as tf\n",
    "print(tf.__version__)"
   ]
  },
  {
   "cell_type": "code",
   "execution_count": 5,
   "id": "ede6c198",
   "metadata": {},
   "outputs": [
    {
     "data": {
      "text/html": [
       "<div>\n",
       "<style scoped>\n",
       "    .dataframe tbody tr th:only-of-type {\n",
       "        vertical-align: middle;\n",
       "    }\n",
       "\n",
       "    .dataframe tbody tr th {\n",
       "        vertical-align: top;\n",
       "    }\n",
       "\n",
       "    .dataframe thead th {\n",
       "        text-align: right;\n",
       "    }\n",
       "</style>\n",
       "<table border=\"1\" class=\"dataframe\">\n",
       "  <thead>\n",
       "    <tr style=\"text-align: right;\">\n",
       "      <th></th>\n",
       "      <th>Date</th>\n",
       "      <th>Open</th>\n",
       "      <th>High</th>\n",
       "      <th>Low</th>\n",
       "      <th>Close</th>\n",
       "      <th>Adj Close</th>\n",
       "      <th>Volume</th>\n",
       "    </tr>\n",
       "  </thead>\n",
       "  <tbody>\n",
       "    <tr>\n",
       "      <th>0</th>\n",
       "      <td>2004-08-19</td>\n",
       "      <td>50.050049</td>\n",
       "      <td>52.082081</td>\n",
       "      <td>48.028027</td>\n",
       "      <td>50.220219</td>\n",
       "      <td>50.220219</td>\n",
       "      <td>44659096</td>\n",
       "    </tr>\n",
       "    <tr>\n",
       "      <th>1</th>\n",
       "      <td>2004-08-20</td>\n",
       "      <td>50.555557</td>\n",
       "      <td>54.594597</td>\n",
       "      <td>50.300301</td>\n",
       "      <td>54.209209</td>\n",
       "      <td>54.209209</td>\n",
       "      <td>22834343</td>\n",
       "    </tr>\n",
       "    <tr>\n",
       "      <th>2</th>\n",
       "      <td>2004-08-23</td>\n",
       "      <td>55.430431</td>\n",
       "      <td>56.796799</td>\n",
       "      <td>54.579578</td>\n",
       "      <td>54.754753</td>\n",
       "      <td>54.754753</td>\n",
       "      <td>18256126</td>\n",
       "    </tr>\n",
       "    <tr>\n",
       "      <th>3</th>\n",
       "      <td>2004-08-24</td>\n",
       "      <td>55.675674</td>\n",
       "      <td>55.855858</td>\n",
       "      <td>51.836838</td>\n",
       "      <td>52.487488</td>\n",
       "      <td>52.487488</td>\n",
       "      <td>15247337</td>\n",
       "    </tr>\n",
       "    <tr>\n",
       "      <th>4</th>\n",
       "      <td>2004-08-25</td>\n",
       "      <td>52.532532</td>\n",
       "      <td>54.054054</td>\n",
       "      <td>51.991993</td>\n",
       "      <td>53.053055</td>\n",
       "      <td>53.053055</td>\n",
       "      <td>9188602</td>\n",
       "    </tr>\n",
       "  </tbody>\n",
       "</table>\n",
       "</div>"
      ],
      "text/plain": [
       "         Date       Open       High        Low      Close  Adj Close    Volume\n",
       "0  2004-08-19  50.050049  52.082081  48.028027  50.220219  50.220219  44659096\n",
       "1  2004-08-20  50.555557  54.594597  50.300301  54.209209  54.209209  22834343\n",
       "2  2004-08-23  55.430431  56.796799  54.579578  54.754753  54.754753  18256126\n",
       "3  2004-08-24  55.675674  55.855858  51.836838  52.487488  52.487488  15247337\n",
       "4  2004-08-25  52.532532  54.054054  51.991993  53.053055  53.053055   9188602"
      ]
     },
     "execution_count": 5,
     "metadata": {},
     "output_type": "execute_result"
    }
   ],
   "source": [
    "data_reading = pd.read_csv(\"GOOGL.csv\")\n",
    "data_reading.head()"
   ]
  },
  {
   "cell_type": "code",
   "execution_count": 6,
   "id": "7281350b",
   "metadata": {},
   "outputs": [
    {
     "data": {
      "text/plain": [
       "(4431, 7)"
      ]
     },
     "execution_count": 6,
     "metadata": {},
     "output_type": "execute_result"
    }
   ],
   "source": [
    "data_reading.shape"
   ]
  },
  {
   "cell_type": "code",
   "execution_count": 7,
   "id": "23463815",
   "metadata": {},
   "outputs": [
    {
     "data": {
      "text/plain": [
       "<bound method DataFrame.info of             Date         Open         High          Low        Close  \\\n",
       "0     2004-08-19    50.050049    52.082081    48.028027    50.220219   \n",
       "1     2004-08-20    50.555557    54.594597    50.300301    54.209209   \n",
       "2     2004-08-23    55.430431    56.796799    54.579578    54.754753   \n",
       "3     2004-08-24    55.675674    55.855858    51.836838    52.487488   \n",
       "4     2004-08-25    52.532532    54.054054    51.991993    53.053055   \n",
       "...          ...          ...          ...          ...          ...   \n",
       "4426  2022-03-18  2668.489990  2724.879883  2645.169922  2722.510010   \n",
       "4427  2022-03-21  2723.270020  2741.000000  2681.850098  2722.030029   \n",
       "4428  2022-03-22  2722.030029  2821.000000  2722.030029  2797.360107   \n",
       "4429  2022-03-23  2774.050049  2791.770020  2756.699951  2765.510010   \n",
       "4430  2022-03-24  2784.000000  2832.379883  2755.010010  2831.439941   \n",
       "\n",
       "        Adj Close    Volume  \n",
       "0       50.220219  44659096  \n",
       "1       54.209209  22834343  \n",
       "2       54.754753  18256126  \n",
       "3       52.487488  15247337  \n",
       "4       53.053055   9188602  \n",
       "...           ...       ...  \n",
       "4426  2722.510010   2223100  \n",
       "4427  2722.030029   1341600  \n",
       "4428  2797.360107   1774800  \n",
       "4429  2765.510010   1257700  \n",
       "4430  2831.439941   1317900  \n",
       "\n",
       "[4431 rows x 7 columns]>"
      ]
     },
     "execution_count": 7,
     "metadata": {},
     "output_type": "execute_result"
    }
   ],
   "source": [
    "data_reading.info"
   ]
  },
  {
   "cell_type": "code",
   "execution_count": 8,
   "id": "09e8eddc",
   "metadata": {},
   "outputs": [
    {
     "data": {
      "text/html": [
       "<div>\n",
       "<style scoped>\n",
       "    .dataframe tbody tr th:only-of-type {\n",
       "        vertical-align: middle;\n",
       "    }\n",
       "\n",
       "    .dataframe tbody tr th {\n",
       "        vertical-align: top;\n",
       "    }\n",
       "\n",
       "    .dataframe thead th {\n",
       "        text-align: right;\n",
       "    }\n",
       "</style>\n",
       "<table border=\"1\" class=\"dataframe\">\n",
       "  <thead>\n",
       "    <tr style=\"text-align: right;\">\n",
       "      <th></th>\n",
       "      <th>Open</th>\n",
       "      <th>High</th>\n",
       "      <th>Low</th>\n",
       "      <th>Close</th>\n",
       "      <th>Adj Close</th>\n",
       "      <th>Volume</th>\n",
       "    </tr>\n",
       "  </thead>\n",
       "  <tbody>\n",
       "    <tr>\n",
       "      <th>count</th>\n",
       "      <td>4431.000000</td>\n",
       "      <td>4431.000000</td>\n",
       "      <td>4431.000000</td>\n",
       "      <td>4431.000000</td>\n",
       "      <td>4431.000000</td>\n",
       "      <td>4.431000e+03</td>\n",
       "    </tr>\n",
       "    <tr>\n",
       "      <th>mean</th>\n",
       "      <td>693.087345</td>\n",
       "      <td>699.735595</td>\n",
       "      <td>686.078751</td>\n",
       "      <td>693.097367</td>\n",
       "      <td>693.097367</td>\n",
       "      <td>6.444992e+06</td>\n",
       "    </tr>\n",
       "    <tr>\n",
       "      <th>std</th>\n",
       "      <td>645.118799</td>\n",
       "      <td>651.331215</td>\n",
       "      <td>638.579488</td>\n",
       "      <td>645.187806</td>\n",
       "      <td>645.187806</td>\n",
       "      <td>7.690351e+06</td>\n",
       "    </tr>\n",
       "    <tr>\n",
       "      <th>min</th>\n",
       "      <td>49.644646</td>\n",
       "      <td>50.920921</td>\n",
       "      <td>48.028027</td>\n",
       "      <td>50.055054</td>\n",
       "      <td>50.055054</td>\n",
       "      <td>4.656000e+05</td>\n",
       "    </tr>\n",
       "    <tr>\n",
       "      <th>25%</th>\n",
       "      <td>248.558563</td>\n",
       "      <td>250.853355</td>\n",
       "      <td>245.813309</td>\n",
       "      <td>248.415916</td>\n",
       "      <td>248.415916</td>\n",
       "      <td>1.695600e+06</td>\n",
       "    </tr>\n",
       "    <tr>\n",
       "      <th>50%</th>\n",
       "      <td>434.924927</td>\n",
       "      <td>437.887878</td>\n",
       "      <td>432.687683</td>\n",
       "      <td>435.330322</td>\n",
       "      <td>435.330322</td>\n",
       "      <td>3.778418e+06</td>\n",
       "    </tr>\n",
       "    <tr>\n",
       "      <th>75%</th>\n",
       "      <td>1007.364990</td>\n",
       "      <td>1020.649994</td>\n",
       "      <td>997.274994</td>\n",
       "      <td>1007.790008</td>\n",
       "      <td>1007.790008</td>\n",
       "      <td>8.002390e+06</td>\n",
       "    </tr>\n",
       "    <tr>\n",
       "      <th>max</th>\n",
       "      <td>3025.000000</td>\n",
       "      <td>3030.929932</td>\n",
       "      <td>2977.979980</td>\n",
       "      <td>2996.770020</td>\n",
       "      <td>2996.770020</td>\n",
       "      <td>8.215117e+07</td>\n",
       "    </tr>\n",
       "  </tbody>\n",
       "</table>\n",
       "</div>"
      ],
      "text/plain": [
       "              Open         High          Low        Close    Adj Close  \\\n",
       "count  4431.000000  4431.000000  4431.000000  4431.000000  4431.000000   \n",
       "mean    693.087345   699.735595   686.078751   693.097367   693.097367   \n",
       "std     645.118799   651.331215   638.579488   645.187806   645.187806   \n",
       "min      49.644646    50.920921    48.028027    50.055054    50.055054   \n",
       "25%     248.558563   250.853355   245.813309   248.415916   248.415916   \n",
       "50%     434.924927   437.887878   432.687683   435.330322   435.330322   \n",
       "75%    1007.364990  1020.649994   997.274994  1007.790008  1007.790008   \n",
       "max    3025.000000  3030.929932  2977.979980  2996.770020  2996.770020   \n",
       "\n",
       "             Volume  \n",
       "count  4.431000e+03  \n",
       "mean   6.444992e+06  \n",
       "std    7.690351e+06  \n",
       "min    4.656000e+05  \n",
       "25%    1.695600e+06  \n",
       "50%    3.778418e+06  \n",
       "75%    8.002390e+06  \n",
       "max    8.215117e+07  "
      ]
     },
     "execution_count": 8,
     "metadata": {},
     "output_type": "execute_result"
    }
   ],
   "source": [
    "data_reading.describe()"
   ]
  },
  {
   "cell_type": "code",
   "execution_count": 9,
   "id": "3a22ea14",
   "metadata": {},
   "outputs": [],
   "source": [
    "palette = ['#164B57', '#3DB37F']"
   ]
  },
  {
   "cell_type": "code",
   "execution_count": 10,
   "id": "644dbda8",
   "metadata": {},
   "outputs": [
    {
     "data": {
      "image/png": "[encoded data removed]",
      "text/plain": [
       "<Figure size 640x480 with 1 Axes>"
      ]
     },
     "metadata": {},
     "output_type": "display_data"
    },
    {
     "data": {
      "image/png": "[encoded data removed]",
      "text/plain": [
       "<Figure size 640x480 with 1 Axes>"
      ]
     },
     "metadata": {},
     "output_type": "display_data"
    },
    {
     "data": {
      "image/png": "[encoded data removed]",
      "text/plain": [
       "<Figure size 640x480 with 1 Axes>"
      ]
     },
     "metadata": {},
     "output_type": "display_data"
    },
    {
     "data": {
      "image/png": "[encoded data removed]",
      "text/plain": [
       "<Figure size 640x480 with 1 Axes>"
      ]
     },
     "metadata": {},
     "output_type": "display_data"
    },
    {
     "data": {
      "image/png": "[encoded data removed]",
      "text/plain": [
       "<Figure size 640x480 with 1 Axes>"
      ]
     },
     "metadata": {},
     "output_type": "display_data"
    },
    {
     "data": {
      "image/png": "[encoded data removed]",
      "text/plain": [
       "<Figure size 640x480 with 1 Axes>"
      ]
     },
     "metadata": {},
     "output_type": "display_data"
    }
   ],
   "source": [
    "for feat in data_reading.columns:\n",
    "    if data_reading[feat].dtype != 'object':\n",
    "        sns.histplot(data_reading, x=feat, color=palette[0])\n",
    "        plt.show()"
   ]
  },
  {
   "cell_type": "code",
   "execution_count": 11,
   "id": "42847d6f",
   "metadata": {},
   "outputs": [],
   "source": [
    "data_reading['ema_12'] = data_reading['Close'].ewm(span=12).mean()\n",
    "data_reading['ema_26'] = data_reading['Close'].ewm(span=26).mean()"
   ]
  },
  {
   "cell_type": "code",
   "execution_count": 12,
   "id": "15cdb28f",
   "metadata": {},
   "outputs": [],
   "source": [
    "data_reading['macd_fast'] = data_reading['ema_12'] - data_reading['ema_26']\n",
    "In [15]: data_reading['slow_macd'] = data_reading['macd_fast'].ewm(span=9).mean()\n",
    "In [16]: data_reading['macd'] = data_reading['macd_fast'] - data_reading['slow_macd']"
   ]
  },
  {
   "cell_type": "code",
   "execution_count": 13,
   "id": "d86e4175",
   "metadata": {},
   "outputs": [],
   "source": [
    "change = data_reading['Close'].diff(1)\n",
    "data_reading['Gain'] = change.mask(change<0,0)\n",
    "data_reading['Loss'] = abs(change.mask(change>0,0))\n",
    "data_reading['AVG_Gain'] = data_reading.Gain.rolling(14).mean()\n",
    "data_reading['AVG_Loss'] = data_reading.Loss.rolling(14).mean()\n",
    "data_reading['RS'] = data_reading['AVG_Gain']/data_reading['AVG_Loss']\n",
    "data_reading['rsi'] = 100 - (100/(1+data_reading['RS']))"
   ]
  },
  {
   "cell_type": "code",
   "execution_count": 14,
   "id": "8bdc37bb",
   "metadata": {},
   "outputs": [
    {
     "data": {
      "text/plain": [
       "array([[<Axes: >],\n",
       "       [<Axes: >]], dtype=object)"
      ]
     },
     "execution_count": 14,
     "metadata": {},
     "output_type": "execute_result"
    },
    {
     "data": {
      "image/png": "[encoded data removed]",
      "text/plain": [
       "<Figure size 640x480 with 2 Axes>"
      ]
     },
     "metadata": {},
     "output_type": "display_data"
    }
   ],
   "source": [
    "data_reading[['rsi', 'macd']].plot(kind='line', color=palette, subplots=True, layout=(2,1))"
   ]
  },
  {
   "cell_type": "code",
   "execution_count": 15,
   "id": "a45da35f",
   "metadata": {},
   "outputs": [],
   "source": [
    "data_reading['Close_pct_chng'] = data_reading['Close'].pct_change()"
   ]
  },
  {
   "cell_type": "code",
   "execution_count": 16,
   "id": "a0c0e477",
   "metadata": {},
   "outputs": [
    {
     "data": {
      "text/plain": [
       "Date               0\n",
       "Open               0\n",
       "High               0\n",
       "Low                0\n",
       "Close              0\n",
       "Adj Close          0\n",
       "Volume             0\n",
       "ema_12             0\n",
       "ema_26             0\n",
       "macd_fast          0\n",
       "slow_macd          0\n",
       "macd               0\n",
       "Gain               1\n",
       "Loss               1\n",
       "AVG_Gain          14\n",
       "AVG_Loss          14\n",
       "RS                14\n",
       "rsi               14\n",
       "Close_pct_chng     1\n",
       "dtype: int64"
      ]
     },
     "execution_count": 16,
     "metadata": {},
     "output_type": "execute_result"
    }
   ],
   "source": [
    "data_reading.isnull().sum()"
   ]
  },
  {
   "cell_type": "code",
   "execution_count": 17,
   "id": "821a077f",
   "metadata": {},
   "outputs": [],
   "source": [
    "days_macd = [1,2,3,4,5,6,7,8,9,10]\n",
    "days_rsi = [1,2,3,4,5,6,7,8,9,10]"
   ]
  },
  {
   "cell_type": "code",
   "execution_count": 18,
   "id": "07089467",
   "metadata": {},
   "outputs": [],
   "source": [
    "for ds in days_macd:\n",
    "    data_reading[f'macd_{ds}_dyago'] = data_reading['macd'].shift(ds)\n"
   ]
  },
  {
   "cell_type": "code",
   "execution_count": 19,
   "id": "86c35730",
   "metadata": {},
   "outputs": [],
   "source": [
    "for dr in days_rsi:\n",
    "    data_reading[f'rsi_{dr}_dyago'] = data_reading['rsi'].shift(dr)"
   ]
  },
  {
   "cell_type": "code",
   "execution_count": 20,
   "id": "25a19ab6",
   "metadata": {},
   "outputs": [
    {
     "data": {
      "text/html": [
       "<div>\n",
       "<style scoped>\n",
       "    .dataframe tbody tr th:only-of-type {\n",
       "        vertical-align: middle;\n",
       "    }\n",
       "\n",
       "    .dataframe tbody tr th {\n",
       "        vertical-align: top;\n",
       "    }\n",
       "\n",
       "    .dataframe thead th {\n",
       "        text-align: right;\n",
       "    }\n",
       "</style>\n",
       "<table border=\"1\" class=\"dataframe\">\n",
       "  <thead>\n",
       "    <tr style=\"text-align: right;\">\n",
       "      <th></th>\n",
       "      <th>Date</th>\n",
       "      <th>Open</th>\n",
       "      <th>High</th>\n",
       "      <th>Low</th>\n",
       "      <th>Close</th>\n",
       "      <th>Adj Close</th>\n",
       "      <th>Volume</th>\n",
       "      <th>ema_12</th>\n",
       "      <th>ema_26</th>\n",
       "      <th>macd_fast</th>\n",
       "      <th>...</th>\n",
       "      <th>rsi_1_dyago</th>\n",
       "      <th>rsi_2_dyago</th>\n",
       "      <th>rsi_3_dyago</th>\n",
       "      <th>rsi_4_dyago</th>\n",
       "      <th>rsi_5_dyago</th>\n",
       "      <th>rsi_6_dyago</th>\n",
       "      <th>rsi_7_dyago</th>\n",
       "      <th>rsi_8_dyago</th>\n",
       "      <th>rsi_9_dyago</th>\n",
       "      <th>rsi_10_dyago</th>\n",
       "    </tr>\n",
       "  </thead>\n",
       "  <tbody>\n",
       "    <tr>\n",
       "      <th>0</th>\n",
       "      <td>2004-08-19</td>\n",
       "      <td>50.050049</td>\n",
       "      <td>52.082081</td>\n",
       "      <td>48.028027</td>\n",
       "      <td>50.220219</td>\n",
       "      <td>50.220219</td>\n",
       "      <td>44659096</td>\n",
       "      <td>50.220219</td>\n",
       "      <td>50.220219</td>\n",
       "      <td>0.000000</td>\n",
       "      <td>...</td>\n",
       "      <td>NaN</td>\n",
       "      <td>NaN</td>\n",
       "      <td>NaN</td>\n",
       "      <td>NaN</td>\n",
       "      <td>NaN</td>\n",
       "      <td>NaN</td>\n",
       "      <td>NaN</td>\n",
       "      <td>NaN</td>\n",
       "      <td>NaN</td>\n",
       "      <td>NaN</td>\n",
       "    </tr>\n",
       "    <tr>\n",
       "      <th>1</th>\n",
       "      <td>2004-08-20</td>\n",
       "      <td>50.555557</td>\n",
       "      <td>54.594597</td>\n",
       "      <td>50.300301</td>\n",
       "      <td>54.209209</td>\n",
       "      <td>54.209209</td>\n",
       "      <td>22834343</td>\n",
       "      <td>52.380922</td>\n",
       "      <td>52.291425</td>\n",
       "      <td>0.089497</td>\n",
       "      <td>...</td>\n",
       "      <td>NaN</td>\n",
       "      <td>NaN</td>\n",
       "      <td>NaN</td>\n",
       "      <td>NaN</td>\n",
       "      <td>NaN</td>\n",
       "      <td>NaN</td>\n",
       "      <td>NaN</td>\n",
       "      <td>NaN</td>\n",
       "      <td>NaN</td>\n",
       "      <td>NaN</td>\n",
       "    </tr>\n",
       "    <tr>\n",
       "      <th>2</th>\n",
       "      <td>2004-08-23</td>\n",
       "      <td>55.430431</td>\n",
       "      <td>56.796799</td>\n",
       "      <td>54.579578</td>\n",
       "      <td>54.754753</td>\n",
       "      <td>54.754753</td>\n",
       "      <td>18256126</td>\n",
       "      <td>53.307429</td>\n",
       "      <td>53.176475</td>\n",
       "      <td>0.130954</td>\n",
       "      <td>...</td>\n",
       "      <td>NaN</td>\n",
       "      <td>NaN</td>\n",
       "      <td>NaN</td>\n",
       "      <td>NaN</td>\n",
       "      <td>NaN</td>\n",
       "      <td>NaN</td>\n",
       "      <td>NaN</td>\n",
       "      <td>NaN</td>\n",
       "      <td>NaN</td>\n",
       "      <td>NaN</td>\n",
       "    </tr>\n",
       "    <tr>\n",
       "      <th>3</th>\n",
       "      <td>2004-08-24</td>\n",
       "      <td>55.675674</td>\n",
       "      <td>55.855858</td>\n",
       "      <td>51.836838</td>\n",
       "      <td>52.487488</td>\n",
       "      <td>52.487488</td>\n",
       "      <td>15247337</td>\n",
       "      <td>53.048605</td>\n",
       "      <td>52.983864</td>\n",
       "      <td>0.064741</td>\n",
       "      <td>...</td>\n",
       "      <td>NaN</td>\n",
       "      <td>NaN</td>\n",
       "      <td>NaN</td>\n",
       "      <td>NaN</td>\n",
       "      <td>NaN</td>\n",
       "      <td>NaN</td>\n",
       "      <td>NaN</td>\n",
       "      <td>NaN</td>\n",
       "      <td>NaN</td>\n",
       "      <td>NaN</td>\n",
       "    </tr>\n",
       "    <tr>\n",
       "      <th>4</th>\n",
       "      <td>2004-08-25</td>\n",
       "      <td>52.532532</td>\n",
       "      <td>54.054054</td>\n",
       "      <td>51.991993</td>\n",
       "      <td>53.053055</td>\n",
       "      <td>53.053055</td>\n",
       "      <td>9188602</td>\n",
       "      <td>53.049814</td>\n",
       "      <td>52.999910</td>\n",
       "      <td>0.049904</td>\n",
       "      <td>...</td>\n",
       "      <td>NaN</td>\n",
       "      <td>NaN</td>\n",
       "      <td>NaN</td>\n",
       "      <td>NaN</td>\n",
       "      <td>NaN</td>\n",
       "      <td>NaN</td>\n",
       "      <td>NaN</td>\n",
       "      <td>NaN</td>\n",
       "      <td>NaN</td>\n",
       "      <td>NaN</td>\n",
       "    </tr>\n",
       "  </tbody>\n",
       "</table>\n",
       "<p>5 rows × 39 columns</p>\n",
       "</div>"
      ],
      "text/plain": [
       "         Date       Open       High        Low      Close  Adj Close  \\\n",
       "0  2004-08-19  50.050049  52.082081  48.028027  50.220219  50.220219   \n",
       "1  2004-08-20  50.555557  54.594597  50.300301  54.209209  54.209209   \n",
       "2  2004-08-23  55.430431  56.796799  54.579578  54.754753  54.754753   \n",
       "3  2004-08-24  55.675674  55.855858  51.836838  52.487488  52.487488   \n",
       "4  2004-08-25  52.532532  54.054054  51.991993  53.053055  53.053055   \n",
       "\n",
       "     Volume     ema_12     ema_26  macd_fast  ...  rsi_1_dyago  rsi_2_dyago  \\\n",
       "0  44659096  50.220219  50.220219   0.000000  ...          NaN          NaN   \n",
       "1  22834343  52.380922  52.291425   0.089497  ...          NaN          NaN   \n",
       "2  18256126  53.307429  53.176475   0.130954  ...          NaN          NaN   \n",
       "3  15247337  53.048605  52.983864   0.064741  ...          NaN          NaN   \n",
       "4   9188602  53.049814  52.999910   0.049904  ...          NaN          NaN   \n",
       "\n",
       "   rsi_3_dyago  rsi_4_dyago  rsi_5_dyago  rsi_6_dyago  rsi_7_dyago  \\\n",
       "0          NaN          NaN          NaN          NaN          NaN   \n",
       "1          NaN          NaN          NaN          NaN          NaN   \n",
       "2          NaN          NaN          NaN          NaN          NaN   \n",
       "3          NaN          NaN          NaN          NaN          NaN   \n",
       "4          NaN          NaN          NaN          NaN          NaN   \n",
       "\n",
       "   rsi_8_dyago  rsi_9_dyago  rsi_10_dyago  \n",
       "0          NaN          NaN           NaN  \n",
       "1          NaN          NaN           NaN  \n",
       "2          NaN          NaN           NaN  \n",
       "3          NaN          NaN           NaN  \n",
       "4          NaN          NaN           NaN  \n",
       "\n",
       "[5 rows x 39 columns]"
      ]
     },
     "execution_count": 20,
     "metadata": {},
     "output_type": "execute_result"
    }
   ],
   "source": [
    "data_reading.head()"
   ]
  },
  {
   "cell_type": "code",
   "execution_count": 21,
   "id": "5615cb12",
   "metadata": {},
   "outputs": [
    {
     "data": {
      "text/html": [
       "<div>\n",
       "<style scoped>\n",
       "    .dataframe tbody tr th:only-of-type {\n",
       "        vertical-align: middle;\n",
       "    }\n",
       "\n",
       "    .dataframe tbody tr th {\n",
       "        vertical-align: top;\n",
       "    }\n",
       "\n",
       "    .dataframe thead th {\n",
       "        text-align: right;\n",
       "    }\n",
       "</style>\n",
       "<table border=\"1\" class=\"dataframe\">\n",
       "  <thead>\n",
       "    <tr style=\"text-align: right;\">\n",
       "      <th></th>\n",
       "      <th>macd</th>\n",
       "      <th>macd_1_dyago</th>\n",
       "    </tr>\n",
       "  </thead>\n",
       "  <tbody>\n",
       "    <tr>\n",
       "      <th>0</th>\n",
       "      <td>0.000000</td>\n",
       "      <td>NaN</td>\n",
       "    </tr>\n",
       "    <tr>\n",
       "      <th>1</th>\n",
       "      <td>0.039776</td>\n",
       "      <td>0.000000</td>\n",
       "    </tr>\n",
       "    <tr>\n",
       "      <th>2</th>\n",
       "      <td>0.047941</td>\n",
       "      <td>0.039776</td>\n",
       "    </tr>\n",
       "    <tr>\n",
       "      <th>3</th>\n",
       "      <td>-0.012082</td>\n",
       "      <td>0.047941</td>\n",
       "    </tr>\n",
       "    <tr>\n",
       "      <th>4</th>\n",
       "      <td>-0.018911</td>\n",
       "      <td>-0.012082</td>\n",
       "    </tr>\n",
       "    <tr>\n",
       "      <th>...</th>\n",
       "      <td>...</td>\n",
       "      <td>...</td>\n",
       "    </tr>\n",
       "    <tr>\n",
       "      <th>4426</th>\n",
       "      <td>13.312184</td>\n",
       "      <td>7.243642</td>\n",
       "    </tr>\n",
       "    <tr>\n",
       "      <th>4427</th>\n",
       "      <td>16.659076</td>\n",
       "      <td>13.312184</td>\n",
       "    </tr>\n",
       "    <tr>\n",
       "      <th>4428</th>\n",
       "      <td>22.924694</td>\n",
       "      <td>16.659076</td>\n",
       "    </tr>\n",
       "    <tr>\n",
       "      <th>4429</th>\n",
       "      <td>23.799019</td>\n",
       "      <td>22.924694</td>\n",
       "    </tr>\n",
       "    <tr>\n",
       "      <th>4430</th>\n",
       "      <td>27.434203</td>\n",
       "      <td>23.799019</td>\n",
       "    </tr>\n",
       "  </tbody>\n",
       "</table>\n",
       "<p>4431 rows × 2 columns</p>\n",
       "</div>"
      ],
      "text/plain": [
       "           macd  macd_1_dyago\n",
       "0      0.000000           NaN\n",
       "1      0.039776      0.000000\n",
       "2      0.047941      0.039776\n",
       "3     -0.012082      0.047941\n",
       "4     -0.018911     -0.012082\n",
       "...         ...           ...\n",
       "4426  13.312184      7.243642\n",
       "4427  16.659076     13.312184\n",
       "4428  22.924694     16.659076\n",
       "4429  23.799019     22.924694\n",
       "4430  27.434203     23.799019\n",
       "\n",
       "[4431 rows x 2 columns]"
      ]
     },
     "execution_count": 21,
     "metadata": {},
     "output_type": "execute_result"
    }
   ],
   "source": [
    "In [25]: data_reading[['macd', 'macd_1_dyago']]"
   ]
  },
  {
   "cell_type": "code",
   "execution_count": 22,
   "id": "799ba113",
   "metadata": {},
   "outputs": [],
   "source": [
    "data_reading = data_reading.dropna()"
   ]
  },
  {
   "cell_type": "code",
   "execution_count": 23,
   "id": "fedc5b7a",
   "metadata": {},
   "outputs": [
    {
     "data": {
      "text/plain": [
       "Index(['Date', 'Open', 'High', 'Low', 'Close', 'Adj Close', 'Volume', 'ema_12',\n",
       "       'ema_26', 'macd_fast', 'slow_macd', 'macd', 'Gain', 'Loss', 'AVG_Gain',\n",
       "       'AVG_Loss', 'RS', 'rsi', 'Close_pct_chng', 'macd_1_dyago',\n",
       "       'macd_2_dyago', 'macd_3_dyago', 'macd_4_dyago', 'macd_5_dyago',\n",
       "       'macd_6_dyago', 'macd_7_dyago', 'macd_8_dyago', 'macd_9_dyago',\n",
       "       'macd_10_dyago', 'rsi_1_dyago', 'rsi_2_dyago', 'rsi_3_dyago',\n",
       "       'rsi_4_dyago', 'rsi_5_dyago', 'rsi_6_dyago', 'rsi_7_dyago',\n",
       "       'rsi_8_dyago', 'rsi_9_dyago', 'rsi_10_dyago'],\n",
       "      dtype='object')"
      ]
     },
     "execution_count": 23,
     "metadata": {},
     "output_type": "execute_result"
    }
   ],
   "source": [
    "data_reading.columns"
   ]
  },
  {
   "cell_type": "code",
   "execution_count": 24,
   "id": "ae5bfcc0",
   "metadata": {},
   "outputs": [],
   "source": [
    "Property = ['macd_1_dyago', 'macd_2_dyago', 'macd_3_dyago',\n",
    "'macd_4_dyago', 'macd_5_dyago', 'macd_6_dyago', 'macd_7_dyago',\n",
    "'macd_8_dyago', 'macd_9_dyago','macd_10_dyago',\n",
    "'rsi_1_dyago', 'rsi_2_dyago', 'rsi_3_dyago',\n",
    "'rsi_4_dyago', 'rsi_5_dyago', 'rsi_6_dyago', 'rsi_7_dyago',\n",
    "'rsi_8_dyago', 'rsi_9_dyago', 'rsi_10_dyago']\n",
    "target = ['Close_pct_chng']"
   ]
  },
  {
   "cell_type": "code",
   "execution_count": 25,
   "id": "273e108e",
   "metadata": {},
   "outputs": [],
   "source": [
    "split_ind = 4000\n"
   ]
  },
  {
   "cell_type": "code",
   "execution_count": 26,
   "id": "93617512",
   "metadata": {},
   "outputs": [],
   "source": [
    "In [30]: df_tr = data_reading.iloc[5:split_ind]\n",
    "df_ts = data_reading.iloc[split_ind:]"
   ]
  },
  {
   "cell_type": "code",
   "execution_count": 27,
   "id": "4c4b34fb",
   "metadata": {},
   "outputs": [
    {
     "data": {
      "text/plain": [
       "Date              0\n",
       "Open              0\n",
       "High              0\n",
       "Low               0\n",
       "Close             0\n",
       "Adj Close         0\n",
       "Volume            0\n",
       "ema_12            0\n",
       "ema_26            0\n",
       "macd_fast         0\n",
       "slow_macd         0\n",
       "macd              0\n",
       "Gain              0\n",
       "Loss              0\n",
       "AVG_Gain          0\n",
       "AVG_Loss          0\n",
       "RS                0\n",
       "rsi               0\n",
       "Close_pct_chng    0\n",
       "macd_1_dyago      0\n",
       "macd_2_dyago      0\n",
       "macd_3_dyago      0\n",
       "macd_4_dyago      0\n",
       "macd_5_dyago      0\n",
       "macd_6_dyago      0\n",
       "macd_7_dyago      0\n",
       "macd_8_dyago      0\n",
       "macd_9_dyago      0\n",
       "macd_10_dyago     0\n",
       "rsi_1_dyago       0\n",
       "rsi_2_dyago       0\n",
       "rsi_3_dyago       0\n",
       "rsi_4_dyago       0\n",
       "rsi_5_dyago       0\n",
       "rsi_6_dyago       0\n",
       "rsi_7_dyago       0\n",
       "rsi_8_dyago       0\n",
       "rsi_9_dyago       0\n",
       "rsi_10_dyago      0\n",
       "dtype: int64"
      ]
     },
     "execution_count": 27,
     "metadata": {},
     "output_type": "execute_result"
    }
   ],
   "source": [
    "df_tr.isnull().sum()"
   ]
  },
  {
   "cell_type": "code",
   "execution_count": 28,
   "id": "c1fd9060",
   "metadata": {},
   "outputs": [],
   "source": [
    "x_tr = df_tr[Property]\n",
    "y_tr = df_tr[target]\n",
    "x_ts = df_ts[Property]\n",
    "y_ts = df_ts[target]\n"
   ]
  },
  {
   "cell_type": "code",
   "execution_count": 29,
   "id": "f76e6bb7",
   "metadata": {},
   "outputs": [
    {
     "name": "stdout",
     "output_type": "stream",
     "text": [
      "(3995, 20)\n",
      "(407, 20)\n"
     ]
    }
   ],
   "source": [
    "print(x_tr.shape)\n",
    "print(x_ts.shape)"
   ]
  },
  {
   "cell_type": "code",
   "execution_count": 30,
   "id": "c8946865",
   "metadata": {},
   "outputs": [],
   "source": [
    "std_scaler = StandardScaler().fit(x_tr)\n",
    "x_tr = std_scaler.transform(x_tr)\n",
    "x_ts = std_scaler.transform(x_ts)\n"
   ]
  },
  {
   "cell_type": "code",
   "execution_count": 31,
   "id": "b3ab1534",
   "metadata": {},
   "outputs": [
    {
     "data": {
      "text/plain": [
       "20"
      ]
     },
     "execution_count": 31,
     "metadata": {},
     "output_type": "execute_result"
    }
   ],
   "source": [
    "dim = x_tr.shape[1]\n",
    "dim"
   ]
  },
  {
   "cell_type": "code",
   "execution_count": 32,
   "id": "27167c98",
   "metadata": {},
   "outputs": [],
   "source": [
    "dense_act = 'elu'\n",
    "recur_act = 'tanh'\n",
    "eps = 500\n",
    "lrning_rt = .001\n",
    "ls = 'mae'\n",
    "opt = tf.keras.optimizers.SGD(learning_rate=lrning_rt)"
   ]
  },
  {
   "cell_type": "code",
   "execution_count": 33,
   "id": "167540f1",
   "metadata": {},
   "outputs": [],
   "source": [
    "model = tf.keras.models.Sequential([\n",
    " tf.keras.layers.LSTM(13, recurrent_activation=recur_act, input_shape=[dim,1]),\n",
    " tf.keras.layers.Dropout(.2),\n",
    " tf.keras.layers.Dense(16, activation=dense_act),\n",
    " tf.keras.layers.Dense(8, activation=dense_act),\n",
    " tf.keras.layers.Dropout(.2),\n",
    " tf.keras.layers.Dense(12, activation=dense_act),\n",
    " tf.keras.layers.Dense(1)\n",
    "])\n",
    "model.compile(loss=ls, optimizer=opt)#, metrics=['mse']\n"
   ]
  },
  {
   "cell_type": "code",
   "execution_count": null,
   "id": "61c7ee54",
   "metadata": {},
   "outputs": [],
   "source": [
    "history = model.fit(x_tr, y_tr,\n",
    " validation_split=.2,\n",
    " epochs=eps, batch_size=1024)"
   ]
  },
  {
   "cell_type": "code",
   "execution_count": 40,
   "id": "a8e6f3d9",
   "metadata": {},
   "outputs": [],
   "source": [
    "pd.DataFrame(history.history).plot(color=palette)"
   ]
  },
  {
   "cell_type": "code",
   "execution_count": 39,
   "id": "67d93ddd",
   "metadata": {},
   "outputs": [],
   "source": [
    "score = model.evaluate(x_ts, y_ts)"
   ]
  }
 ],
 "metadata": {
  "kernelspec": {
   "display_name": "Python 3 (ipykernel)",
   "language": "python",
   "name": "python3"
  },
  "language_info": {
   "codemirror_mode": {
    "name": "ipython",
    "version": 3
   },
   "file_extension": ".py",
   "mimetype": "text/x-python",
   "name": "python",
   "nbconvert_exporter": "python",
   "pygments_lexer": "ipython3",
   "version": "3.11.3"
  }
 },
 "nbformat": 4,
 "nbformat_minor": 5
}
